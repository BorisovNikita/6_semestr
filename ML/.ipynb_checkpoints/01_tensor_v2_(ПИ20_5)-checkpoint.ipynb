{
 "cells": [
  {
   "cell_type": "markdown",
   "metadata": {
    "id": "_gE94V3G1RCx"
   },
   "source": [
    "# 01. Знакомство с `torch.Tensor`\n",
    "\n",
    "V 0.1 04.02.2021"
   ]
  },
  {
   "cell_type": "markdown",
   "metadata": {
    "id": "TlWOXn0f1RC7"
   },
   "source": [
    "---"
   ]
  },
  {
   "cell_type": "markdown",
   "metadata": {
    "id": "lZfJ1FRM1RC8"
   },
   "source": [
    "При решении данных задач не подразумевается использования циклов или генераторов Python, если в задании не сказано обратного. Решение должно опираться на использование функционала библиотеки `torch`.\n",
    "\n",
    "[PyTorch documentation](https://pytorch.org/docs/stable/#pytorch-documentation)"
   ]
  },
  {
   "cell_type": "code",
   "execution_count": 2,
   "metadata": {},
   "outputs": [
    {
     "name": "stdout",
     "output_type": "stream",
     "text": [
      "Collecting torch\n",
      "  Downloading torch-1.13.1-cp39-cp39-win_amd64.whl (162.5 MB)\n",
      "Requirement already satisfied: typing-extensions in c:\\users\\nikita\\anaconda3\\lib\\site-packages (from torch) (4.1.1)\n",
      "Installing collected packages: torch\n",
      "Successfully installed torch-1.13.1\n"
     ]
    }
   ],
   "source": [
    "!pip install torch"
   ]
  },
  {
   "cell_type": "code",
   "execution_count": 3,
   "metadata": {
    "id": "b3AW8rF-1RC9"
   },
   "outputs": [],
   "source": [
    "import torch"
   ]
  },
  {
   "cell_type": "markdown",
   "metadata": {
    "id": "vow49PuE1RC9"
   },
   "source": [
    "## 1.1 Создание тензоров и выполнение базовых операций над ними\n",
    "\n",
    "[Документация по функциям для создания тензоров](https://pytorch.org/docs/stable/torch.html#creation-ops)\n",
    "\n",
    "[Документация по функциям для работы с индексами](https://pytorch.org/docs/stable/torch.html#indexing-slicing-joining-mutating-ops)"
   ]
  },
  {
   "cell_type": "code",
   "execution_count": 4,
   "metadata": {
    "colab": {
     "base_uri": "https://localhost:8080/"
    },
    "id": "ef18wmfO-M0R",
    "outputId": "8710d1b1-3e6e-4752-e492-2d36455f55d0"
   },
   "outputs": [
    {
     "data": {
      "text/plain": [
       "tensor([[1, 2],\n",
       "        [3, 4]])"
      ]
     },
     "execution_count": 4,
     "metadata": {},
     "output_type": "execute_result"
    }
   ],
   "source": [
    "t = torch.tensor([[1, 2], [3, 4]])\n",
    "t "
   ]
  },
  {
   "cell_type": "code",
   "execution_count": 5,
   "metadata": {
    "colab": {
     "base_uri": "https://localhost:8080/"
    },
    "id": "xCv2PmkO-28R",
    "outputId": "897b3286-6721-4519-8028-2f1b3d39e230"
   },
   "outputs": [
    {
     "data": {
      "text/plain": [
       "tensor([[1., 0., 0.],\n",
       "        [0., 1., 0.],\n",
       "        [0., 0., 1.]])"
      ]
     },
     "execution_count": 5,
     "metadata": {},
     "output_type": "execute_result"
    }
   ],
   "source": [
    "torch.eye(3)"
   ]
  },
  {
   "cell_type": "markdown",
   "metadata": {
    "id": "wBIwO1SB1RC-"
   },
   "source": [
    "1.1.1 Создайте двумерный тензор размера (8, 8). Используя как можно меньше операций, добейтесь расстановки кодов \"шахматных фигур\".\n",
    "\n",
    "Ожидаемый результат:\n",
    "\n",
    "```\n",
    "[[-4., -3., -2., -6., -5., -2., -3., -4.],\n",
    " [-1., -1., -1., -1., -1., -1., -1., -1.],\n",
    " [0., 0., 0., 0., 0., 0., 0., 0.],\n",
    " [0., 0., 0., 0., 0., 0., 0., 0.],\n",
    " [0., 0., 0., 0., 0., 0., 0., 0.],\n",
    " [0., 0., 0., 0., 0., 0., 0., 0.],\n",
    " [1., 1., 1., 1., 1., 1., 1., 1.],\n",
    " [4., 3., 2., 6., 5., 2., 3., 4.]]\n",
    "\n",
    "```"
   ]
  },
  {
   "cell_type": "code",
   "execution_count": 10,
   "metadata": {
    "colab": {
     "base_uri": "https://localhost:8080/"
    },
    "id": "Jtvkg11e_XB5",
    "outputId": "7a5b82d4-024b-4a0a-c496-1c7567da11f5"
   },
   "outputs": [
    {
     "data": {
      "text/plain": [
       "tensor([[-4., -3., -2., -6., -5., -2., -3., -4.],\n",
       "        [-1., -1., -1., -1., -1., -1., -1., -1.],\n",
       "        [ 0.,  0.,  0.,  0.,  0.,  0.,  0.,  0.],\n",
       "        [ 0.,  0.,  0.,  0.,  0.,  0.,  0.,  0.],\n",
       "        [ 0.,  0.,  0.,  0.,  0.,  0.,  0.,  0.],\n",
       "        [ 0.,  0.,  0.,  0.,  0.,  0.,  0.,  0.],\n",
       "        [ 1.,  1.,  1.,  1.,  1.,  1.,  1.,  1.],\n",
       "        [ 4.,  3.,  2.,  6.,  5.,  2.,  3.,  4.]])"
      ]
     },
     "execution_count": 10,
     "metadata": {},
     "output_type": "execute_result"
    }
   ],
   "source": [
    "t = torch.zeros(8, 8)\n",
    "t[0] = torch.tensor([-4., -3., -2., -6., -5., -2., -3., -4.])\n",
    "t[-2] = torch.ones(1, 8)\n",
    "t[1] = torch.ones(1, 8) * (-1)\n",
    "t[-1] =  t[0] * (-1)\n",
    "t"
   ]
  },
  {
   "cell_type": "markdown",
   "metadata": {
    "id": "20x5RE1V1RC_"
   },
   "source": [
    "1.1.2 Средствами `torch` рассчитать произведения четных чисел от 2 до 20 на ближайшие к ним бОльшие нечетные числа."
   ]
  },
  {
   "cell_type": "code",
   "execution_count": 11,
   "metadata": {
    "colab": {
     "base_uri": "https://localhost:8080/"
    },
    "id": "l6ryUQFwAaxG",
    "outputId": "61d76910-6c02-4817-a343-608a815f3ff6"
   },
   "outputs": [
    {
     "data": {
      "text/plain": [
       "tensor([  6,  20,  42,  72, 110, 156, 210, 272, 342, 420])"
      ]
     },
     "execution_count": 11,
     "metadata": {},
     "output_type": "execute_result"
    }
   ],
   "source": [
    "t = torch.arange(2, 22)\n",
    "even = t[::2]\n",
    "odd = t[1::2]\n",
    "odd * even"
   ]
  },
  {
   "cell_type": "markdown",
   "metadata": {
    "id": "N_-t5GRM1RC_"
   },
   "source": [
    "1.1.3 Создать тензор размера 11x7 вида: [[1, 2, 3, ..., 7], [11, 12, 13, ..., 17], [21, 22, 23, ..., 27], ..., [101, 102, 103, ..., 107]]"
   ]
  },
  {
   "cell_type": "code",
   "execution_count": 12,
   "metadata": {
    "colab": {
     "base_uri": "https://localhost:8080/"
    },
    "id": "QZs3rWkXBOsx",
    "outputId": "acdcdd47-3777-4f56-de48-7036f3e2200a"
   },
   "outputs": [
    {
     "data": {
      "text/plain": [
       "tensor([[  1,   2,   3,   4,   5,   6,   7],\n",
       "        [ 11,  12,  13,  14,  15,  16,  17],\n",
       "        [ 21,  22,  23,  24,  25,  26,  27],\n",
       "        [ 31,  32,  33,  34,  35,  36,  37],\n",
       "        [ 41,  42,  43,  44,  45,  46,  47],\n",
       "        [ 51,  52,  53,  54,  55,  56,  57],\n",
       "        [ 61,  62,  63,  64,  65,  66,  67],\n",
       "        [ 71,  72,  73,  74,  75,  76,  77],\n",
       "        [ 81,  82,  83,  84,  85,  86,  87],\n",
       "        [ 91,  92,  93,  94,  95,  96,  97],\n",
       "        [101, 102, 103, 104, 105, 106, 107]])"
      ]
     },
     "execution_count": 12,
     "metadata": {},
     "output_type": "execute_result"
    }
   ],
   "source": [
    "t = torch.arange(1, 111)\n",
    "t = t.reshape(11, 10)\n",
    "t[::, :7:]"
   ]
  },
  {
   "cell_type": "markdown",
   "metadata": {
    "id": "oxVeUiHR1RC_"
   },
   "source": [
    "1.1.4 Написать функцию, которая для целых значений `n` и `m` будет возвращать тензор размера `n`x`m`, заполненный текстурой размера 2x2, состоящей из следующих значений:\n",
    "\n",
    "```\n",
    "0 1\n",
    "\n",
    "2 3\n",
    "\n",
    "```\n",
    "\n",
    "Пример для n = 4 и m = 5:\n",
    "\n",
    "```\n",
    "0 1 0 1 0\n",
    "\n",
    "2 3 2 3 2\n",
    "\n",
    "0 1 0 1 0\n",
    "\n",
    "2 3 2 3 2\n",
    "```"
   ]
  },
  {
   "cell_type": "code",
   "execution_count": 14,
   "metadata": {
    "id": "1IG2wr8ZCmcU"
   },
   "outputs": [],
   "source": [
    "# метод repeat\n",
    "n, m = 4, 5\n",
    "def repeat_mask(n, m):\n",
    "    t = torch.tensor([[0, 1], [2, 3]])\n",
    "    res = t.repeat(n, m)[:n:, :m:]\n",
    "    return res"
   ]
  },
  {
   "cell_type": "code",
   "execution_count": 15,
   "metadata": {
    "colab": {
     "base_uri": "https://localhost:8080/"
    },
    "id": "36UyJfPcHECa",
    "outputId": "e78f09a0-26cb-44d2-9a46-3d580a829c41"
   },
   "outputs": [
    {
     "data": {
      "text/plain": [
       "tensor([[0, 1, 0, 1, 0],\n",
       "        [2, 3, 2, 3, 2],\n",
       "        [0, 1, 0, 1, 0],\n",
       "        [2, 3, 2, 3, 2],\n",
       "        [0, 1, 0, 1, 0]])"
      ]
     },
     "execution_count": 15,
     "metadata": {},
     "output_type": "execute_result"
    }
   ],
   "source": [
    "repeat_mask(5, 5)"
   ]
  },
  {
   "cell_type": "markdown",
   "metadata": {
    "id": "WH9hxJse1RDA"
   },
   "source": [
    "1.1.5 Сгенерировать двумерный тензор `t` размерности (4, 7), состоящий из случайных действительных чисел, равномерно распределенных в дипазоне от 0 до 20. Нормализовать значения массива с помощью преобразования вида $ax+b$ так, что после нормализации максимальный элемент масива будет равен 1.0, минимальный 0.0"
   ]
  },
  {
   "cell_type": "code",
   "execution_count": 16,
   "metadata": {
    "colab": {
     "base_uri": "https://localhost:8080/"
    },
    "id": "9viEVTa9HULZ",
    "outputId": "3762e2fc-2c8c-4d93-876a-a39ef56a50f6"
   },
   "outputs": [
    {
     "data": {
      "text/plain": [
       "tensor([[0.5525, 0.6132, 0.3154, 0.5144, 0.7958, 0.2835, 0.4056],\n",
       "        [0.7385, 0.7813, 1.0000, 0.9447, 0.6988, 0.7352, 0.4188],\n",
       "        [0.2152, 0.3125, 0.7328, 0.6321, 0.1015, 0.1825, 0.1331],\n",
       "        [0.4418, 0.5932, 0.3867, 0.3462, 0.0420, 0.0152, 0.0000]])"
      ]
     },
     "execution_count": 16,
     "metadata": {},
     "output_type": "execute_result"
    }
   ],
   "source": [
    "t = torch.rand(4, 7) * 20\n",
    "M = t.max()\n",
    "m = t.min()\n",
    "a = 1 / (M - m)\n",
    "b = -m / (M - m)\n",
    "# aX + b (X = t)\n",
    "a * t + b"
   ]
  },
  {
   "cell_type": "markdown",
   "metadata": {
    "id": "vPqIeewXB-mM"
   },
   "source": [
    "[Random Sampling](https://pytorch.org/docs/stable/torch.html#random-sampling)\n",
    "\n",
    "[Distributions](https://pytorch.org/docs/stable/distributions.html)"
   ]
  },
  {
   "cell_type": "markdown",
   "metadata": {
    "id": "K_R6cwq11RDE"
   },
   "source": [
    "1.1.6 Задать два двумерных тензора `ar1` и `ar2` размерности (4, 7), состоящих из случайных целых чисел в пределах от 0 до 10. Построить двумерный тензор размерности (4, 7), каждый элемент которого представляет собой максимум из двух значений, находящихся на аналогичной позиции в тензорах `ar1`, `ar2`.\n",
    "\n",
    "[Reductions ops](https://pytorch.org/docs/stable/torch.html#reduction-ops)"
   ]
  },
  {
   "cell_type": "code",
   "execution_count": 17,
   "metadata": {
    "colab": {
     "base_uri": "https://localhost:8080/"
    },
    "id": "f19Jz0viIn2i",
    "outputId": "6caecaa8-4965-4431-9163-a07522b59e67"
   },
   "outputs": [
    {
     "name": "stdout",
     "output_type": "stream",
     "text": [
      "tensor([[8.4984, 8.0331, 9.8679, 9.2275, 3.4102, 9.5058, 3.9191],\n",
      "        [5.7109, 1.0149, 1.0530, 9.6674, 0.0318, 5.5822, 3.2699],\n",
      "        [7.7222, 8.6231, 9.5970, 7.3538, 5.3416, 5.3834, 6.8912],\n",
      "        [9.9261, 4.4033, 6.7375, 9.6861, 0.0686, 0.3390, 3.4540]])\n",
      "tensor([[4.5072, 7.4451, 4.8080, 6.5693, 7.5714, 5.8842, 8.6508],\n",
      "        [9.1160, 5.1967, 0.2387, 4.1114, 9.0962, 8.0662, 4.5158],\n",
      "        [0.6715, 2.5430, 7.4570, 2.9410, 5.5942, 9.6500, 7.1726],\n",
      "        [4.0584, 0.1526, 3.4986, 5.9836, 5.4607, 8.8104, 8.9841]])\n"
     ]
    }
   ],
   "source": [
    "ar1 = torch.rand(4, 7) * 10\n",
    "ar2 = torch.rand(4, 7) * 10\n",
    "\n",
    "torch.manual_seed(0)\n",
    "print(ar1)\n",
    "print(ar2)\n"
   ]
  },
  {
   "cell_type": "code",
   "execution_count": 18,
   "metadata": {
    "colab": {
     "base_uri": "https://localhost:8080/"
    },
    "id": "SCmv3_qdIk1K",
    "outputId": "1296031b-d349-4fe7-dcf4-9364170d3698"
   },
   "outputs": [
    {
     "data": {
      "text/plain": [
       "tensor([[8.4984, 8.0331, 9.8679, 9.2275, 0.0000, 9.5058, 0.0000],\n",
       "        [0.0000, 0.0000, 1.0530, 9.6674, 0.0000, 0.0000, 0.0000],\n",
       "        [7.7222, 8.6231, 9.5970, 7.3538, 0.0000, 0.0000, 0.0000],\n",
       "        [9.9261, 4.4033, 6.7375, 9.6861, 0.0000, 0.0000, 0.0000]])"
      ]
     },
     "execution_count": 18,
     "metadata": {},
     "output_type": "execute_result"
    }
   ],
   "source": [
    "ar1 * (ar1 >= ar2)"
   ]
  },
  {
   "cell_type": "code",
   "execution_count": 19,
   "metadata": {
    "colab": {
     "base_uri": "https://localhost:8080/"
    },
    "id": "UTV-M44-Jj2S",
    "outputId": "4a5cb6bc-528a-41c9-a6ba-b5a767e3b151"
   },
   "outputs": [
    {
     "data": {
      "text/plain": [
       "tensor([[0.0000, 0.0000, 0.0000, 0.0000, 7.5714, 0.0000, 8.6508],\n",
       "        [9.1160, 5.1967, 0.0000, 0.0000, 9.0962, 8.0662, 4.5158],\n",
       "        [0.0000, 0.0000, 0.0000, 0.0000, 5.5942, 9.6500, 7.1726],\n",
       "        [0.0000, 0.0000, 0.0000, 0.0000, 5.4607, 8.8104, 8.9841]])"
      ]
     },
     "execution_count": 19,
     "metadata": {},
     "output_type": "execute_result"
    }
   ],
   "source": [
    "ar2 * (ar1 < ar2)"
   ]
  },
  {
   "cell_type": "code",
   "execution_count": 20,
   "metadata": {
    "colab": {
     "base_uri": "https://localhost:8080/"
    },
    "id": "OlLCffc7JsLK",
    "outputId": "8c87a98c-f70b-4e33-c5a3-67a1da3584f1"
   },
   "outputs": [
    {
     "data": {
      "text/plain": [
       "torch.return_types.sort(\n",
       "values=tensor([[7.5714, 8.0331, 8.4984, 8.6508, 9.2275, 9.5058, 9.8679],\n",
       "        [1.0530, 4.5158, 5.1967, 8.0662, 9.0962, 9.1160, 9.6674],\n",
       "        [5.5942, 7.1726, 7.3538, 7.7222, 8.6231, 9.5970, 9.6500],\n",
       "        [4.4033, 5.4607, 6.7375, 8.8104, 8.9841, 9.6861, 9.9261]]),\n",
       "indices=tensor([[4, 1, 0, 6, 3, 5, 2],\n",
       "        [2, 6, 1, 5, 4, 0, 3],\n",
       "        [4, 6, 3, 0, 1, 2, 5],\n",
       "        [1, 4, 2, 5, 6, 3, 0]]))"
      ]
     },
     "execution_count": 20,
     "metadata": {},
     "output_type": "execute_result"
    }
   ],
   "source": [
    "res = ar1 * (ar1 >= ar2) + ar2 * (ar1 < ar2)\n",
    "\n",
    "res.sort()"
   ]
  },
  {
   "cell_type": "markdown",
   "metadata": {
    "id": "x6zmMhyKBPWQ"
   },
   "source": [
    "1.1.7 Создать тензор из 20 случайных целых чисел от 0 до 100. Получить второе сверху значение в тензоре. Определить индекс этого значения."
   ]
  },
  {
   "cell_type": "code",
   "execution_count": 38,
   "metadata": {},
   "outputs": [
    {
     "data": {
      "text/plain": [
       "torch.return_types.sort(\n",
       "values=tensor([[ 0,  1,  8,  9, 27, 32, 41, 42, 45, 55, 61, 74, 79, 83, 85, 93, 93, 94,\n",
       "         98, 99]]),\n",
       "indices=tensor([[ 3, 10, 14, 12, 15, 13,  8, 16,  9, 11, 18,  2, 19,  1,  0,  4,  7, 17,\n",
       "          5,  6]]))"
      ]
     },
     "execution_count": 38,
     "metadata": {},
     "output_type": "execute_result"
    }
   ],
   "source": [
    "t = torch.randint(0, 101, (1, 20))\n",
    "t.sort()"
   ]
  },
  {
   "cell_type": "code",
   "execution_count": 39,
   "metadata": {
    "colab": {
     "base_uri": "https://localhost:8080/"
    },
    "id": "BrMbvri9LO-b",
    "outputId": "8cc0b80d-d481-4ebc-d222-1d31f293690c"
   },
   "outputs": [
    {
     "name": "stdout",
     "output_type": "stream",
     "text": [
      "tensor(1)\n",
      "tensor(10)\n"
     ]
    }
   ],
   "source": [
    "#значение\n",
    "print(t.sort()[0][0][1])\n",
    "#id\n",
    "print(t.sort()[1][0][1])"
   ]
  },
  {
   "cell_type": "markdown",
   "metadata": {
    "id": "Xshsy8fD1RDE"
   },
   "source": [
    "## 1.2 Распространение"
   ]
  },
  {
   "cell_type": "markdown",
   "metadata": {
    "id": "jlP22HAJCo28"
   },
   "source": [
    "[Numpy broadcasting](https://numpy.org/devdocs/user/theory.broadcasting.html)\n",
    "\n",
    "[Torch broadcasting](https://pytorch.org/docs/stable/notes/broadcasting.html)"
   ]
  },
  {
   "cell_type": "markdown",
   "metadata": {
    "id": "uRD6-8Gd1RDF"
   },
   "source": [
    "1.2.1 Создать тензор 11x7 вида: `[[1, 2, 3, ..., 7], [11, 12, 13, ..., 17], [21, 22, 23, ..., 27], ..., [101, 102, 103, ..., 107]]`. При решении задачи применить технику распространения."
   ]
  },
  {
   "cell_type": "code",
   "execution_count": 69,
   "metadata": {},
   "outputs": [
    {
     "data": {
      "text/plain": [
       "tensor([[  1,   2,   3,   4,   5,   6,   7],\n",
       "        [ 11,  12,  13,  14,  15,  16,  17],\n",
       "        [ 21,  22,  23,  24,  25,  26,  27],\n",
       "        [ 31,  32,  33,  34,  35,  36,  37],\n",
       "        [ 41,  42,  43,  44,  45,  46,  47],\n",
       "        [ 51,  52,  53,  54,  55,  56,  57],\n",
       "        [ 61,  62,  63,  64,  65,  66,  67],\n",
       "        [ 71,  72,  73,  74,  75,  76,  77],\n",
       "        [ 81,  82,  83,  84,  85,  86,  87],\n",
       "        [ 91,  92,  93,  94,  95,  96,  97],\n",
       "        [101, 102, 103, 104, 105, 106, 107]])"
      ]
     },
     "execution_count": 69,
     "metadata": {},
     "output_type": "execute_result"
    }
   ],
   "source": [
    "a = torch.arange(0,101,10).reshape(-1,1)\n",
    "b = torch.arange(1,8)\n",
    "a+b"
   ]
  },
  {
   "cell_type": "markdown",
   "metadata": {
    "id": "iSY9Iday1RDF"
   },
   "source": [
    "1.2.2 Вычесть одномерный тензор `b_1d` из двухмерного тензора `a_2d`, так, чтобы каждый элемент одномерного тензора вычитался из всех элементов соответствующих строк двумерного тензора.\n",
    "\n",
    "_Пример:_\n",
    "\n",
    "Для входа:\n",
    "```python\n",
    "a_2d = torch.tensor([[3,3,3],[4,4,4],[5,5,5]])\n",
    "b_1d = torch.tensor([1,2,3])\n",
    "```\n",
    "\n",
    "Ожидается резульат:\n",
    "\n",
    "```python\n",
    "[[2 2 2]\n",
    " [2 2 2]\n",
    " [2 2 2]]\n",
    "```"
   ]
  },
  {
   "cell_type": "code",
   "execution_count": 71,
   "metadata": {},
   "outputs": [],
   "source": [
    "a_2d = torch.tensor([[3,3,3],[4,4,4],[5,5,5]]) \n",
    "b_1d = torch.tensor([1,2,3])"
   ]
  },
  {
   "cell_type": "code",
   "execution_count": 77,
   "metadata": {},
   "outputs": [
    {
     "data": {
      "text/plain": [
       "tensor([[2, 2, 2],\n",
       "        [2, 2, 2],\n",
       "        [2, 2, 2]])"
      ]
     },
     "execution_count": 77,
     "metadata": {},
     "output_type": "execute_result"
    }
   ],
   "source": [
    "a_2d - b_1d.reshape(-1,1)"
   ]
  },
  {
   "cell_type": "code",
   "execution_count": 78,
   "metadata": {
    "colab": {
     "base_uri": "https://localhost:8080/"
    },
    "id": "AM-tHiTpOs8V",
    "outputId": "6b0b3b41-af95-4331-89c2-3ccddf235f40"
   },
   "outputs": [
    {
     "data": {
      "text/plain": [
       "tensor([[2, 2, 2],\n",
       "        [2, 2, 2],\n",
       "        [2, 2, 2]])"
      ]
     },
     "execution_count": 78,
     "metadata": {},
     "output_type": "execute_result"
    }
   ],
   "source": [
    "torch.transpose(a_2d, 0, 1) - b_1d"
   ]
  },
  {
   "cell_type": "code",
   "execution_count": null,
   "metadata": {},
   "outputs": [],
   "source": []
  },
  {
   "cell_type": "markdown",
   "metadata": {
    "id": "dFTvPsY91RDF"
   },
   "source": [
    "## 1.3 Индексы, маскирование и прихотливое индексирование\n",
    "\n",
    "[Документация по функциям для работы с индексами](https://pytorch.org/docs/stable/torch.html#indexing-slicing-joining-mutating-ops)"
   ]
  },
  {
   "cell_type": "markdown",
   "metadata": {
    "id": "McYtDYhH1RDG"
   },
   "source": [
    "1.3.1 Получить индексы, для которых элементы тензоров `a` и `b` совпадают.\n",
    "\n",
    "_Пример:_\n",
    "\n",
    "Для входа:\n",
    "```python\n",
    "a = torch.tensor([1,2,3,2,3,4,3,4,5,6])\n",
    "b = torch.tensor([7,2,10,2,7,4,9,4,9,8])\n",
    "```\n",
    "\n",
    "Ожидается резульат:\n",
    "\n",
    "```python\n",
    "tensor([1, 3, 5, 7])\n",
    "```"
   ]
  },
  {
   "cell_type": "code",
   "execution_count": 79,
   "metadata": {},
   "outputs": [],
   "source": [
    "a = torch.tensor([1,2,3,2,3,4,3,4,5,6])\n",
    "b = torch.tensor([7,2,10,2,7,4,9,4,9,8])"
   ]
  },
  {
   "cell_type": "code",
   "execution_count": 84,
   "metadata": {},
   "outputs": [
    {
     "data": {
      "text/plain": [
       "tensor([1, 3, 5, 7])"
      ]
     },
     "execution_count": 84,
     "metadata": {},
     "output_type": "execute_result"
    }
   ],
   "source": [
    "torch.where(a == b)[0]"
   ]
  },
  {
   "cell_type": "markdown",
   "metadata": {
    "id": "MnBq3nfy1RDG"
   },
   "source": [
    "1.3.2 Инвертировать порядок элементов в двумерном тензоре `torch.arange(9).view(3,3)`.\n",
    "\n",
    "Ожидаемый результат:\n",
    "\n",
    "\n",
    "```python\n",
    "tensor([[8, 7, 6],\n",
    "       [5, 4, 3],\n",
    "       [2, 1, 0]])\n",
    "```"
   ]
  },
  {
   "cell_type": "code",
   "execution_count": 87,
   "metadata": {},
   "outputs": [
    {
     "data": {
      "text/plain": [
       "tensor([[0, 1, 2],\n",
       "        [3, 4, 5],\n",
       "        [6, 7, 8]])"
      ]
     },
     "execution_count": 87,
     "metadata": {},
     "output_type": "execute_result"
    }
   ],
   "source": [
    "a = torch.arange(9).view(3,3)\n",
    "a"
   ]
  },
  {
   "cell_type": "code",
   "execution_count": 96,
   "metadata": {},
   "outputs": [
    {
     "data": {
      "text/plain": [
       "tensor([[8, 7, 6],\n",
       "        [5, 4, 3],\n",
       "        [2, 1, 0]])"
      ]
     },
     "execution_count": 96,
     "metadata": {},
     "output_type": "execute_result"
    }
   ],
   "source": [
    "torch.flip(a, [0, 1])"
   ]
  },
  {
   "cell_type": "markdown",
   "metadata": {
    "id": "tANsLnOC1RDH"
   },
   "source": [
    "1.3.3 Из входного тензора a получить только элементы, находящиеся в диапазоне от 5 до 10.\n",
    "\n",
    "_Пример:_\n",
    "\n",
    "Для входа:\n",
    "```python\n",
    "a = torch.tensor([2, 6, 1, 9, 10, 3, 27])\n",
    "```\n",
    "\n",
    "Ожидается результат:\n",
    "\n",
    "```python\n",
    "tensor([6, 9, 10])\n",
    "```"
   ]
  },
  {
   "cell_type": "code",
   "execution_count": 97,
   "metadata": {},
   "outputs": [],
   "source": [
    "a = torch.tensor([2, 6, 1, 9, 10, 3, 27])"
   ]
  },
  {
   "cell_type": "code",
   "execution_count": 109,
   "metadata": {},
   "outputs": [
    {
     "data": {
      "text/plain": [
       "tensor([ 6,  9, 10])"
      ]
     },
     "execution_count": 109,
     "metadata": {},
     "output_type": "execute_result"
    }
   ],
   "source": [
    "a[torch.where((a>=5) & (a<=10))]"
   ]
  },
  {
   "cell_type": "markdown",
   "metadata": {
    "id": "3vlK0gV21RDH"
   },
   "source": [
    "1.3.4 Поменять местами столбец 1 и 2 тензора `torch.arange(9).reshape(3,3)`"
   ]
  },
  {
   "cell_type": "code",
   "execution_count": 112,
   "metadata": {},
   "outputs": [
    {
     "data": {
      "text/plain": [
       "tensor([[0, 1, 2],\n",
       "        [3, 4, 5],\n",
       "        [6, 7, 8]])"
      ]
     },
     "execution_count": 112,
     "metadata": {},
     "output_type": "execute_result"
    }
   ],
   "source": [
    "a = torch.arange(9).view(3,3)\n",
    "a"
   ]
  },
  {
   "cell_type": "code",
   "execution_count": 118,
   "metadata": {},
   "outputs": [
    {
     "data": {
      "text/plain": [
       "tensor([[0, 2, 1],\n",
       "        [3, 5, 4],\n",
       "        [6, 8, 7]])"
      ]
     },
     "execution_count": 118,
     "metadata": {},
     "output_type": "execute_result"
    }
   ],
   "source": [
    "a[:,[1,2]] = a[:,[1,2]].flip([1])\n",
    "a"
   ]
  },
  {
   "cell_type": "markdown",
   "metadata": {
    "id": "cheFtWhU1RDH"
   },
   "source": [
    "1.3.5 Создать тензор 8 на 10 из случайных целых чисел из диапазона от 0 до 10 и найти в ней строку (ее индекс и вывести саму строку), в которой сумма значений минимальна."
   ]
  },
  {
   "cell_type": "code",
   "execution_count": 123,
   "metadata": {},
   "outputs": [
    {
     "data": {
      "text/plain": [
       "tensor([[1, 0, 1, 0, 9, 1, 4, 2, 5, 3],\n",
       "        [4, 1, 5, 5, 5, 1, 5, 2, 4, 3],\n",
       "        [4, 7, 8, 4, 7, 3, 1, 5, 3, 0],\n",
       "        [5, 3, 3, 0, 8, 7, 3, 4, 7, 3],\n",
       "        [5, 6, 0, 4, 9, 8, 2, 0, 0, 6],\n",
       "        [8, 9, 1, 9, 2, 6, 9, 9, 7, 4],\n",
       "        [1, 8, 5, 8, 7, 9, 7, 4, 5, 4],\n",
       "        [2, 5, 8, 3, 8, 0, 1, 2, 0, 2]])"
      ]
     },
     "execution_count": 123,
     "metadata": {},
     "output_type": "execute_result"
    }
   ],
   "source": [
    "a = torch.randint(0,10,(8,10))\n",
    "a"
   ]
  },
  {
   "cell_type": "code",
   "execution_count": 143,
   "metadata": {},
   "outputs": [
    {
     "data": {
      "text/plain": [
       "tensor(0)"
      ]
     },
     "execution_count": 143,
     "metadata": {},
     "output_type": "execute_result"
    }
   ],
   "source": [
    "max_index = a.sum(dim=[1]).argmin()\n",
    "max_index"
   ]
  },
  {
   "cell_type": "code",
   "execution_count": 144,
   "metadata": {},
   "outputs": [
    {
     "data": {
      "text/plain": [
       "tensor([1, 0, 1, 0, 9, 1, 4, 2, 5, 3])"
      ]
     },
     "execution_count": 144,
     "metadata": {},
     "output_type": "execute_result"
    }
   ],
   "source": [
    "a[max_index]"
   ]
  },
  {
   "cell_type": "markdown",
   "metadata": {
    "id": "grOCNU4XFE2B"
   },
   "source": [
    "1.3.6 Cоздать тензор из 20 случайных целых чисел от 0 до 100. Обрезать значения тензора (заменить значения, выходящие за диапазон, на крайние значения) снизу по значению 30, сверху по значению 70."
   ]
  },
  {
   "cell_type": "code",
   "execution_count": 148,
   "metadata": {},
   "outputs": [
    {
     "data": {
      "text/plain": [
       "tensor([67, 23, 76, 92, 30, 21, 83, 73, 26, 62, 29, 16,  6, 63, 16, 70,  8, 95,\n",
       "        90, 37])"
      ]
     },
     "execution_count": 148,
     "metadata": {},
     "output_type": "execute_result"
    }
   ],
   "source": [
    "a = torch.randint(0,100, (20,))\n",
    "a"
   ]
  },
  {
   "cell_type": "code",
   "execution_count": 154,
   "metadata": {},
   "outputs": [
    {
     "data": {
      "text/plain": [
       "tensor([67, 30, 70, 70, 30, 30, 70, 70, 30, 62, 30, 30, 30, 63, 30, 70, 30, 70,\n",
       "        70, 37])"
      ]
     },
     "execution_count": 154,
     "metadata": {},
     "output_type": "execute_result"
    }
   ],
   "source": [
    "a = torch.where(a<30, 30, a)\n",
    "a = torch.where(a>70, 70, a)\n",
    "a"
   ]
  },
  {
   "cell_type": "markdown",
   "metadata": {
    "id": "HNfQjY8P1RDI"
   },
   "source": [
    "1.3.7 Создать два тензора размера 30 на 3 из случайных целых чисел из диапазона от 0 до 10 и найти все значения первого тензора, которые больше соответсвующих (по расположению) значений второго тензора. Подсчитать сумму этих значений."
   ]
  },
  {
   "cell_type": "code",
   "execution_count": 168,
   "metadata": {},
   "outputs": [],
   "source": [
    "a = torch.randint(0, 10, (30,3))\n",
    "b = torch.randint(0, 10, (30,3))"
   ]
  },
  {
   "cell_type": "code",
   "execution_count": 161,
   "metadata": {},
   "outputs": [
    {
     "data": {
      "text/plain": [
       "tensor([2, 9, 2, 2, 9, 4, 6, 8, 7, 8, 3, 7, 8, 4, 8, 7, 7, 5, 3, 7, 7, 9, 7, 7,\n",
       "        5, 2, 7, 6, 8, 6, 5, 7, 3, 4, 7])"
      ]
     },
     "execution_count": 161,
     "metadata": {},
     "output_type": "execute_result"
    }
   ],
   "source": [
    "a[torch.where(a > b)]"
   ]
  },
  {
   "cell_type": "code",
   "execution_count": 164,
   "metadata": {},
   "outputs": [
    {
     "data": {
      "text/plain": [
       "tensor(236)"
      ]
     },
     "execution_count": 164,
     "metadata": {},
     "output_type": "execute_result"
    }
   ],
   "source": [
    "a[torch.where(a > b)].sum()"
   ]
  },
  {
   "cell_type": "markdown",
   "metadata": {
    "id": "doBCxYJA1RDI"
   },
   "source": [
    "1.3.8 При помощи прихотливого индексирования для двухмерного массива размерности (20, 20), состоящего из случайных целых чисел в пределах от 0 до 10 получить массив элементов находящихся на диагонали, проходящей над основной диагональю."
   ]
  },
  {
   "cell_type": "code",
   "execution_count": 187,
   "metadata": {
    "scrolled": true
   },
   "outputs": [
    {
     "data": {
      "text/plain": [
       "tensor([[1, 5, 3, 7, 2, 6, 7, 3, 6, 2, 7, 6, 4, 5, 6, 2, 8, 2, 6, 4],\n",
       "        [9, 5, 3, 8, 4, 1, 6, 7, 6, 5, 9, 7, 5, 1, 7, 0, 4, 2, 1, 4],\n",
       "        [3, 6, 7, 9, 4, 9, 9, 9, 4, 1, 0, 3, 3, 5, 9, 1, 9, 6, 4, 7],\n",
       "        [3, 3, 3, 0, 8, 6, 5, 6, 6, 9, 6, 2, 0, 7, 8, 1, 1, 8, 2, 4],\n",
       "        [2, 2, 2, 1, 1, 9, 6, 0, 8, 7, 1, 8, 7, 7, 7, 8, 3, 4, 3, 3],\n",
       "        [9, 4, 2, 2, 4, 6, 0, 7, 6, 9, 6, 6, 6, 0, 4, 5, 0, 5, 8, 0],\n",
       "        [3, 7, 2, 3, 2, 3, 9, 9, 9, 4, 1, 5, 7, 7, 1, 9, 5, 2, 2, 8],\n",
       "        [5, 6, 1, 7, 4, 7, 5, 4, 5, 8, 7, 3, 4, 5, 8, 7, 8, 6, 7, 2],\n",
       "        [9, 1, 9, 8, 0, 3, 9, 1, 9, 9, 4, 7, 5, 6, 9, 7, 2, 9, 1, 9],\n",
       "        [8, 4, 3, 7, 8, 2, 7, 6, 8, 3, 2, 4, 1, 1, 1, 8, 6, 7, 7, 4],\n",
       "        [9, 5, 3, 5, 7, 4, 8, 1, 5, 8, 0, 4, 8, 3, 9, 5, 3, 9, 9, 4],\n",
       "        [5, 1, 5, 3, 6, 8, 6, 2, 7, 5, 2, 6, 8, 2, 7, 7, 4, 7, 8, 8],\n",
       "        [4, 9, 8, 5, 7, 5, 7, 8, 9, 5, 0, 2, 8, 1, 9, 4, 1, 5, 8, 3],\n",
       "        [4, 8, 6, 5, 3, 1, 3, 6, 8, 1, 6, 6, 1, 5, 0, 1, 4, 3, 8, 8],\n",
       "        [9, 8, 6, 7, 5, 7, 3, 0, 6, 2, 4, 0, 9, 4, 4, 7, 8, 7, 3, 3],\n",
       "        [4, 1, 7, 3, 8, 2, 1, 3, 2, 6, 2, 4, 6, 1, 1, 0, 5, 8, 2, 9],\n",
       "        [4, 8, 3, 8, 3, 4, 7, 9, 1, 0, 3, 9, 3, 2, 8, 7, 3, 4, 0, 6],\n",
       "        [6, 3, 0, 0, 4, 2, 0, 7, 2, 1, 1, 2, 7, 0, 1, 0, 0, 4, 2, 2],\n",
       "        [1, 1, 9, 5, 6, 6, 0, 8, 8, 1, 6, 3, 7, 7, 1, 0, 6, 9, 7, 2],\n",
       "        [1, 1, 2, 5, 9, 9, 5, 3, 4, 0, 6, 4, 8, 4, 3, 0, 8, 0, 2, 4]])"
      ]
     },
     "execution_count": 187,
     "metadata": {},
     "output_type": "execute_result"
    }
   ],
   "source": [
    "a = torch.randint(0, 10, (20,20))\n",
    "a"
   ]
  },
  {
   "cell_type": "code",
   "execution_count": 195,
   "metadata": {},
   "outputs": [
    {
     "data": {
      "text/plain": [
       "tensor([2, 1, 9, 6, 8, 9, 1, 3, 5, 1, 9, 7, 1, 3, 3])"
      ]
     },
     "execution_count": 195,
     "metadata": {},
     "output_type": "execute_result"
    }
   ],
   "source": [
    "i = torch.arange(min(a.shape))\n",
    "shift = 4\n",
    "a[(i[:-1-shift], (i+shift)[:-1-shift])]"
   ]
  },
  {
   "cell_type": "markdown",
   "metadata": {
    "id": "6M1lkfLp1RDJ"
   },
   "source": [
    "1.3.9 Задать два двухмерных тензора `ar1` и `ar2` размерности (5, 10), состоящих из случайных целых чисел в пределах от 0 до 10. Удвоить все значения `ar1`, которые совпадают со значениями `ar2`, расположенными на аналогичных позициях."
   ]
  },
  {
   "cell_type": "code",
   "execution_count": 208,
   "metadata": {},
   "outputs": [
    {
     "data": {
      "text/plain": [
       "(tensor([[2, 1, 0, 6, 0, 9, 2, 2, 4, 7],\n",
       "         [1, 4, 8, 8, 8, 6, 7, 9, 4, 7],\n",
       "         [8, 9, 3, 0, 5, 5, 1, 1, 4, 5],\n",
       "         [8, 2, 5, 8, 2, 2, 8, 6, 7, 6],\n",
       "         [2, 5, 3, 5, 5, 5, 0, 4, 6, 8]]),\n",
       " tensor([[4, 4, 3, 9, 1, 2, 6, 5, 5, 5],\n",
       "         [6, 5, 9, 1, 9, 0, 5, 5, 7, 5],\n",
       "         [5, 0, 8, 8, 3, 1, 1, 9, 4, 6],\n",
       "         [7, 2, 3, 6, 7, 7, 2, 4, 2, 0],\n",
       "         [3, 0, 7, 6, 5, 9, 8, 3, 3, 0]]))"
      ]
     },
     "execution_count": 208,
     "metadata": {},
     "output_type": "execute_result"
    }
   ],
   "source": [
    "ar1 = torch.randint(0, 10, (5,10))\n",
    "ar2 = torch.randint(0, 10, (5,10))\n",
    "ar1, ar2"
   ]
  },
  {
   "cell_type": "code",
   "execution_count": 209,
   "metadata": {},
   "outputs": [
    {
     "data": {
      "text/plain": [
       "tensor([[ 2,  1,  0,  6,  0,  9,  2,  2,  4,  7],\n",
       "        [ 1,  4,  8,  8,  8,  6,  7,  9,  4,  7],\n",
       "        [ 8,  9,  3,  0,  5,  5,  1,  1, 16,  5],\n",
       "        [ 8,  4,  5,  8,  2,  2,  8,  6,  7,  6],\n",
       "        [ 2,  5,  3,  5, 25,  5,  0,  4,  6,  8]])"
      ]
     },
     "execution_count": 209,
     "metadata": {},
     "output_type": "execute_result"
    }
   ],
   "source": [
    "ar1.where(ar1!=ar2, ar1**2)"
   ]
  },
  {
   "cell_type": "markdown",
   "metadata": {
    "id": "Qe2oVr4p1RDJ"
   },
   "source": [
    "1.3.10 Заданы три двухмерных тензора `ar1`, `ar2` и `ar3` размерности (4, 7), состоящие из случайных целых чисел в пределах от 0 до 10. Обнулить все элементы `ar1`, которые больше соответствующих (находящихся в соответствующих позициях) элементов `ar2` и меньше соответствующих элементов `ar3`."
   ]
  },
  {
   "cell_type": "code",
   "execution_count": 212,
   "metadata": {},
   "outputs": [
    {
     "data": {
      "text/plain": [
       "(tensor([[1, 2, 9, 5, 7, 7, 3],\n",
       "         [2, 8, 2, 8, 9, 1, 2],\n",
       "         [3, 6, 9, 6, 5, 0, 2],\n",
       "         [2, 0, 3, 8, 7, 3, 6]]),\n",
       " tensor([[2, 7, 6, 9, 0, 4, 3],\n",
       "         [9, 9, 4, 9, 0, 9, 2],\n",
       "         [7, 6, 3, 2, 1, 5, 9],\n",
       "         [8, 2, 1, 2, 0, 2, 1]]),\n",
       " tensor([[9, 3, 3, 8, 2, 9, 1],\n",
       "         [7, 9, 7, 3, 5, 7, 3],\n",
       "         [6, 9, 1, 0, 0, 5, 0],\n",
       "         [6, 1, 0, 8, 7, 9, 9]]))"
      ]
     },
     "execution_count": 212,
     "metadata": {},
     "output_type": "execute_result"
    }
   ],
   "source": [
    "ar1 = torch.randint(0, 10, (4,7))\n",
    "ar2 = torch.randint(0, 10, (4,7))\n",
    "ar3 = torch.randint(0, 10, (4,7))\n",
    "ar1, ar2, ar3"
   ]
  },
  {
   "cell_type": "code",
   "execution_count": 213,
   "metadata": {},
   "outputs": [
    {
     "data": {
      "text/plain": [
       "tensor([[1, 2, 9, 5, 7, 0, 3],\n",
       "        [2, 8, 2, 8, 9, 1, 2],\n",
       "        [3, 6, 9, 6, 5, 0, 2],\n",
       "        [2, 0, 3, 8, 7, 0, 0]])"
      ]
     },
     "execution_count": 213,
     "metadata": {},
     "output_type": "execute_result"
    }
   ],
   "source": [
    "torch.where((ar1>ar2) & (ar1<ar3), 0, ar1)"
   ]
  },
  {
   "cell_type": "markdown",
   "metadata": {
    "id": "BTcRVeYh1RDK"
   },
   "source": [
    "1.3.11 Задан двумерный тензор `ar1` размерности (20, 5), состоящий из случайных целых чисел в пределах от 0 до 20. Определить, в каких столбцах не менее 5 раз встречается значение, максимальное по своей строке."
   ]
  },
  {
   "cell_type": "code",
   "execution_count": 215,
   "metadata": {},
   "outputs": [
    {
     "data": {
      "text/plain": [
       "tensor([[14, 13, 14,  4, 16],\n",
       "        [ 4, 12, 19, 17,  1],\n",
       "        [ 1,  1, 10,  2,  6],\n",
       "        [12, 11, 13,  3,  1],\n",
       "        [17,  6, 16,  8,  3],\n",
       "        [16, 18, 13, 15, 14],\n",
       "        [ 1,  0, 11,  3,  9],\n",
       "        [ 4,  3,  0,  0, 17],\n",
       "        [10, 12,  7,  7, 15],\n",
       "        [19, 17, 12, 13,  2],\n",
       "        [ 0,  0, 16, 18,  1],\n",
       "        [16,  0,  7, 10, 11],\n",
       "        [ 7,  9, 15, 18, 18],\n",
       "        [16,  9, 12,  3, 12],\n",
       "        [ 6,  2, 11, 16, 10],\n",
       "        [ 6,  5,  0,  8,  5],\n",
       "        [ 6, 13,  9, 13, 18],\n",
       "        [11,  3, 11,  5, 19],\n",
       "        [12,  7, 10,  9, 13],\n",
       "        [ 7,  1,  5, 13, 17]])"
      ]
     },
     "execution_count": 215,
     "metadata": {},
     "output_type": "execute_result"
    }
   ],
   "source": [
    "ar1 = torch.randint(0, 20, (20,5))\n",
    "ar1"
   ]
  },
  {
   "cell_type": "code",
   "execution_count": 229,
   "metadata": {},
   "outputs": [
    {
     "data": {
      "text/plain": [
       "tensor([4])"
      ]
     },
     "execution_count": 229,
     "metadata": {},
     "output_type": "execute_result"
    }
   ],
   "source": [
    "torch.where((ar1 == ar1.max(dim=1).values.reshape(-1,1)).sum(dim=[0]) >= 5)[0]"
   ]
  },
  {
   "cell_type": "markdown",
   "metadata": {
    "id": "ZeYlNWNE1RDK"
   },
   "source": [
    "1.3.12 Задан двумерный тензор `ar1` размерности (4, 7), состоящий из случайных  чисел в пределах от 0 до 1. Обнулить все значения в массиве, расположенные строго правее и ниже максимального элемента массива. "
   ]
  },
  {
   "cell_type": "code",
   "execution_count": 261,
   "metadata": {},
   "outputs": [
    {
     "data": {
      "text/plain": [
       "tensor([[0.5491, 0.0699, 0.9825, 0.4995, 0.2330, 0.5119, 0.2854],\n",
       "        [0.6379, 0.6810, 0.3582, 0.5291, 0.7975, 0.1748, 0.3885],\n",
       "        [0.4262, 0.1692, 0.5407, 0.5184, 0.0961, 0.6026, 0.9772],\n",
       "        [0.7659, 0.2288, 0.9577, 0.1563, 0.2458, 0.7205, 0.8978]])"
      ]
     },
     "execution_count": 261,
     "metadata": {},
     "output_type": "execute_result"
    }
   ],
   "source": [
    "ar1 = torch.rand(4,7)\n",
    "ar1"
   ]
  },
  {
   "cell_type": "code",
   "execution_count": 262,
   "metadata": {},
   "outputs": [
    {
     "data": {
      "text/plain": [
       "tensor([[0.5491, 0.0699, 0.9825, 0.4995, 0.2330, 0.5119, 0.2854],\n",
       "        [0.6379, 0.6810, 0.3582, 0.0000, 0.0000, 0.0000, 0.0000],\n",
       "        [0.4262, 0.1692, 0.5407, 0.0000, 0.0000, 0.0000, 0.0000],\n",
       "        [0.7659, 0.2288, 0.9577, 0.0000, 0.0000, 0.0000, 0.0000]])"
      ]
     },
     "execution_count": 262,
     "metadata": {},
     "output_type": "execute_result"
    }
   ],
   "source": [
    "max_ind = ar1.argmax()\n",
    "row = max_ind // ar1.shape[-1]\n",
    "col = max_ind % ar1.shape[-1]\n",
    "ar1[row+1:, col+1:] = 0\n",
    "ar1"
   ]
  },
  {
   "cell_type": "markdown",
   "metadata": {
    "id": "pYxX90B11RDL"
   },
   "source": [
    "1.3.13 Построить \"one-hot encoding\" для одномерного тензора, содержащего целые числа (длина вектора заранее неизвестна, набор значений заранее неизвестен, при этом в итоговой матрице должны присутствовать столбцы для всех натуральных чисел вплоть до максимального встречающегося в исходном массиве).\n",
    "\n",
    "Пример:\n",
    "\n",
    "для тензора `torch.tensor([2, 3, 2, 2, 2, 1])`.\n",
    "\n",
    "Ожидается результат:\n",
    "\n",
    "```python\n",
    "tensor([[0., 1., 0.],\n",
    "        [0., 0., 1.],\n",
    "        [0., 1., 0.],\n",
    "        [0., 1., 0.],\n",
    "        [0., 1., 0.],\n",
    "        [1., 0., 0.]])\n",
    "```"
   ]
  },
  {
   "cell_type": "code",
   "execution_count": 280,
   "metadata": {},
   "outputs": [],
   "source": [
    "a = torch.tensor([2, 3, 2, 2, 2, 1])"
   ]
  },
  {
   "cell_type": "code",
   "execution_count": 281,
   "metadata": {},
   "outputs": [
    {
     "data": {
      "text/plain": [
       "tensor([[0., 1., 0.],\n",
       "        [0., 0., 1.],\n",
       "        [0., 1., 0.],\n",
       "        [0., 1., 0.],\n",
       "        [0., 1., 0.],\n",
       "        [1., 0., 0.]])"
      ]
     },
     "execution_count": 281,
     "metadata": {},
     "output_type": "execute_result"
    }
   ],
   "source": [
    "torch.where(\n",
    "    torch.arange(1, a.max()+1).repeat(a.shape[0], 1) == a.reshape(-1,1),\n",
    "    1.0,\n",
    "    0.0\n",
    ")"
   ]
  },
  {
   "cell_type": "markdown",
   "metadata": {
    "id": "GYU8DmNTDLN8"
   },
   "source": [
    "1.3.14 Создать тензор `arr` из 20 случайных целых чисел от 0 до 100. Найти самое частое значение в тензоре. \n",
    "Найти индексы в тензоре, соответствующие самому частому значению. Проверить, как работет алгоритм при двух значениях, имеющих наибольшую встречаемость, предложить приемлемое поведение алгоритма для этого случая. "
   ]
  },
  {
   "cell_type": "code",
   "execution_count": 286,
   "metadata": {},
   "outputs": [
    {
     "data": {
      "text/plain": [
       "tensor([48, 40, 29,  5, 87, 55,  8,  8, 64, 23, 50, 49, 64, 15, 47, 33,  2, 80,\n",
       "        73, 47])"
      ]
     },
     "execution_count": 286,
     "metadata": {},
     "output_type": "execute_result"
    }
   ],
   "source": [
    "arr = torch.randint(0, 100, (20,))\n",
    "arr"
   ]
  },
  {
   "cell_type": "code",
   "execution_count": 304,
   "metadata": {
    "scrolled": true
   },
   "outputs": [
    {
     "data": {
      "text/plain": [
       "tensor([ 8, 47, 64])"
      ]
     },
     "execution_count": 304,
     "metadata": {},
     "output_type": "execute_result"
    }
   ],
   "source": [
    "val_c = arr.unique(return_counts=True)\n",
    "max_c = val_c[1].sort(descending=True)[0][0]\n",
    "val_max_c = val_c[0][val_c[1] == max_c]\n",
    "val_max_c"
   ]
  },
  {
   "cell_type": "code",
   "execution_count": 305,
   "metadata": {},
   "outputs": [
    {
     "data": {
      "text/plain": [
       "(tensor([ 6,  7,  8, 12, 14, 19]),)"
      ]
     },
     "execution_count": 305,
     "metadata": {},
     "output_type": "execute_result"
    }
   ],
   "source": [
    "torch.where(torch.isin(arr, val_max_c))"
   ]
  },
  {
   "cell_type": "markdown",
   "metadata": {
    "id": "UenAEfEG1RDN"
   },
   "source": [
    "## 1.4 Математические задачи"
   ]
  },
  {
   "cell_type": "markdown",
   "metadata": {
    "id": "6weDrqJR1RDN"
   },
   "source": [
    "1.4.1 Приблизительно (с погрешностью порядка 1%) рассчитать на какой части интервала от 0 до 10 значение функции x * sin(x) больше 0.5."
   ]
  },
  {
   "cell_type": "code",
   "execution_count": 315,
   "metadata": {},
   "outputs": [],
   "source": [
    "n = 10_000\n",
    "arr = torch.linspace(0, 10, n)"
   ]
  },
  {
   "cell_type": "code",
   "execution_count": 316,
   "metadata": {},
   "outputs": [
    {
     "data": {
      "text/plain": [
       "tensor(0.5241)"
      ]
     },
     "execution_count": 316,
     "metadata": {},
     "output_type": "execute_result"
    }
   ],
   "source": [
    "((arr * torch.sin(arr)) > 0.5).sum() / n"
   ]
  },
  {
   "cell_type": "markdown",
   "metadata": {
    "id": "B9xAv8TR1RDN"
   },
   "source": [
    "1.4.2 Найти все простые числа в пределах ста. (Для решения предлагается использовать Решето Эратосфена) Использовать не более 1 цикла (желательно)."
   ]
  },
  {
   "cell_type": "code",
   "execution_count": 376,
   "metadata": {},
   "outputs": [
    {
     "data": {
      "text/plain": [
       "tensor([ 2,  3,  5,  7, 11, 13, 17, 19, 23, 29, 31, 37, 41, 43, 47, 53, 59, 61,\n",
       "        67, 71, 73, 79, 83, 89, 97])"
      ]
     },
     "execution_count": 376,
     "metadata": {},
     "output_type": "execute_result"
    }
   ],
   "source": [
    "n = 100\n",
    "a = torch.arange(2, n+1)\n",
    "p = 2\n",
    "mask = ~torch.isnan(a)\n",
    "while 2*p <= (n+1):\n",
    "    mask = mask & ~torch.isin(a, torch.arange(2*p, n+1, p))\n",
    "    p = a[mask][a[mask] > p][0]\n",
    "\n",
    "a[mask]"
   ]
  },
  {
   "cell_type": "markdown",
   "metadata": {
    "id": "AHupFoTR1RDN"
   },
   "source": [
    "1.4.3 Найти евклидово расстояние между двумя одномерными тензорами одинаковой размерности, не используя готовые решения из библиотек."
   ]
  },
  {
   "cell_type": "code",
   "execution_count": 385,
   "metadata": {},
   "outputs": [
    {
     "data": {
      "text/plain": [
       "(17.72004508972168, 17.72004508972168)"
      ]
     },
     "execution_count": 385,
     "metadata": {},
     "output_type": "execute_result"
    }
   ],
   "source": [
    "x = torch.randint(0,10, (20,))\n",
    "y = torch.randint(0,10, (20,))\n",
    "(((x-y)**2).sum()**(1/2)).item(), torch.dist(x*1.0, y*1.0).item()"
   ]
  },
  {
   "cell_type": "markdown",
   "metadata": {
    "id": "j-ZvjWDKDVMQ"
   },
   "source": [
    "1.4.4 Создать двумерный тензор 20 на 3, содержащий случайные целые числа от 0 до 100. \n",
    "Интерпретируя тензор как 20 векторов из 3х компонент, отсортировать его по длине векторов."
   ]
  },
  {
   "cell_type": "code",
   "execution_count": 387,
   "metadata": {},
   "outputs": [
    {
     "data": {
      "text/plain": [
       "tensor([[46, 37, 31],\n",
       "        [87, 30,  9],\n",
       "        [67, 70, 51],\n",
       "        [22, 38, 13],\n",
       "        [76, 51, 71],\n",
       "        [67, 11,  3],\n",
       "        [11,  6, 22],\n",
       "        [54, 48, 15],\n",
       "        [86, 61, 67],\n",
       "        [71,  8, 33],\n",
       "        [49, 32, 24],\n",
       "        [98,  0, 71],\n",
       "        [45, 90, 60],\n",
       "        [25, 52,  6],\n",
       "        [55, 57, 28],\n",
       "        [10, 99, 12],\n",
       "        [11, 27, 34],\n",
       "        [57, 21,  4],\n",
       "        [17, 64, 16],\n",
       "        [65, 72, 75]])"
      ]
     },
     "execution_count": 387,
     "metadata": {},
     "output_type": "execute_result"
    }
   ],
   "source": [
    "a = torch.randint(0, 100, (20,3))\n",
    "a"
   ]
  },
  {
   "cell_type": "code",
   "execution_count": 397,
   "metadata": {},
   "outputs": [
    {
     "data": {
      "text/plain": [
       "tensor([[11,  6, 22],\n",
       "        [11, 27, 34],\n",
       "        [22, 38, 13],\n",
       "        [25, 52,  6],\n",
       "        [57, 21,  4],\n",
       "        [49, 32, 24],\n",
       "        [46, 37, 31],\n",
       "        [67, 11,  3],\n",
       "        [17, 64, 16],\n",
       "        [54, 48, 15],\n",
       "        [71,  8, 33],\n",
       "        [55, 57, 28],\n",
       "        [87, 30,  9],\n",
       "        [10, 99, 12],\n",
       "        [67, 70, 51],\n",
       "        [76, 51, 71],\n",
       "        [45, 90, 60],\n",
       "        [98,  0, 71],\n",
       "        [65, 72, 75],\n",
       "        [86, 61, 67]])"
      ]
     },
     "execution_count": 397,
     "metadata": {},
     "output_type": "execute_result"
    }
   ],
   "source": [
    "a[torch.linalg.norm(a*1.0, dim=1).sort().indices]"
   ]
  },
  {
   "cell_type": "markdown",
   "metadata": {
    "id": "IkBRFTKa1RDO"
   },
   "source": [
    "1.4.5 Найти \"локальные максимумы\" в одномерном тензоре (т.е. значения, большие предыдущего и последующего) `torch.tensor([1, 3, 7, 1, 2, 6, 0, 1])` и вывести их индексы."
   ]
  },
  {
   "cell_type": "code",
   "execution_count": 399,
   "metadata": {},
   "outputs": [
    {
     "data": {
      "text/plain": [
       "tensor([1, 3, 7, 1, 2, 6, 0, 1])"
      ]
     },
     "execution_count": 399,
     "metadata": {},
     "output_type": "execute_result"
    }
   ],
   "source": [
    "a = torch.tensor([1, 3, 7, 1, 2, 6, 0, 1])\n",
    "a"
   ]
  },
  {
   "cell_type": "code",
   "execution_count": 407,
   "metadata": {},
   "outputs": [
    {
     "data": {
      "text/plain": [
       "tensor([ 2,  4, -6,  1,  4, -6])"
      ]
     },
     "execution_count": 407,
     "metadata": {},
     "output_type": "execute_result"
    }
   ],
   "source": [
    "left = a.diff()[:-1]\n",
    "left"
   ]
  },
  {
   "cell_type": "code",
   "execution_count": 408,
   "metadata": {},
   "outputs": [
    {
     "data": {
      "text/plain": [
       "tensor([-4,  6, -1, -4,  6, -1])"
      ]
     },
     "execution_count": 408,
     "metadata": {},
     "output_type": "execute_result"
    }
   ],
   "source": [
    "right = a.flip(0).diff().flip(0)[1:]\n",
    "right"
   ]
  },
  {
   "cell_type": "code",
   "execution_count": 421,
   "metadata": {},
   "outputs": [
    {
     "data": {
      "text/plain": [
       "tensor([2, 5])"
      ]
     },
     "execution_count": 421,
     "metadata": {},
     "output_type": "execute_result"
    }
   ],
   "source": [
    "((((left>0) & (right>0)).nonzero()+1).t()[0])"
   ]
  },
  {
   "cell_type": "markdown",
   "metadata": {
    "id": "VXD58rlc1RDP"
   },
   "source": [
    "1.4.6 Задан произвольный массив numpy (например массив из 100 случайных числе от 0 до 1). Необходимо найти в нем число наиболее близкое к заданному."
   ]
  },
  {
   "cell_type": "code",
   "execution_count": 423,
   "metadata": {},
   "outputs": [
    {
     "data": {
      "text/plain": [
       "tensor([0.9082, 0.3230, 0.3467, 0.1644, 0.5192, 0.9667, 0.7045, 0.8514, 0.4669,\n",
       "        0.4206, 0.4107, 0.7852, 0.4344, 0.0729, 0.3244, 0.6957, 0.9875, 0.4091,\n",
       "        0.0647, 0.1318, 0.1066, 0.7016, 0.8686, 0.6479, 0.6724, 0.8257, 0.8419,\n",
       "        0.7986, 0.7796, 0.6353, 0.7581, 0.1569, 0.1764, 0.6345, 0.5778, 0.0604,\n",
       "        0.1358, 0.1020, 0.8971, 0.8269, 0.2368, 0.5754, 0.3850, 0.9347, 0.0471,\n",
       "        0.1352, 0.0837, 0.7910, 0.2501, 0.7978, 0.6690, 0.2556, 0.3653, 0.2977,\n",
       "        0.7206, 0.2995, 0.6697, 0.5357, 0.1007, 0.1857, 0.1533, 0.7620, 0.6083,\n",
       "        0.4874, 0.2023, 0.0046, 0.3231, 0.1173, 0.0027, 0.0231, 0.1734, 0.0139,\n",
       "        0.6559, 0.6871, 0.7015, 0.0023, 0.8092, 0.5975, 0.7557, 0.3771, 0.7401,\n",
       "        0.0258, 0.6703, 0.8965, 0.7102, 0.0287, 0.3596, 0.4379, 0.7620, 0.3108,\n",
       "        0.5719, 0.3245, 0.4206, 0.4900, 0.2129, 0.1530, 0.9128, 0.9201, 0.4849,\n",
       "        0.9328])"
      ]
     },
     "execution_count": 423,
     "metadata": {},
     "output_type": "execute_result"
    }
   ],
   "source": [
    "a = torch.rand(100)\n",
    "a"
   ]
  },
  {
   "cell_type": "code",
   "execution_count": 426,
   "metadata": {},
   "outputs": [
    {
     "data": {
      "text/plain": [
       "0.30132049322128296"
      ]
     },
     "execution_count": 426,
     "metadata": {},
     "output_type": "execute_result"
    }
   ],
   "source": [
    "x = torch.rand(1).item()\n",
    "x"
   ]
  },
  {
   "cell_type": "code",
   "execution_count": 429,
   "metadata": {},
   "outputs": [
    {
     "data": {
      "text/plain": [
       "tensor(0.2995)"
      ]
     },
     "execution_count": 429,
     "metadata": {},
     "output_type": "execute_result"
    }
   ],
   "source": [
    "a[torch.abs(a-x).argmin()]"
   ]
  },
  {
   "cell_type": "markdown",
   "metadata": {
    "id": "81F_B2ij1RDP"
   },
   "source": [
    "1.4.7 Решить матричное уравнение `A*X*B=-C` - найти матрицу X. Где `A = [[-1, 2, 4], [-3, 1, 2], [-3, 0, 1]]`, `B=[[3, -1], [2, 1]]`, `C=[[7, 21], [11, 8], [8, 4]]`."
   ]
  },
  {
   "cell_type": "code",
   "execution_count": 437,
   "metadata": {},
   "outputs": [],
   "source": [
    "A = torch.tensor([[-1, 2, 4], [-3, 1, 2], [-3, 0, 1]]).to(torch.float)\n",
    "B = torch.tensor([[3, -1], [2, 1]]).to(torch.float)\n",
    "C = torch.tensor([[7, 21], [11, 8], [8, 4]]).to(torch.float)"
   ]
  },
  {
   "cell_type": "code",
   "execution_count": 439,
   "metadata": {},
   "outputs": [
    {
     "data": {
      "text/plain": [
       "tensor([[ 1., -0.],\n",
       "        [-2.,  1.],\n",
       "        [ 3., -4.]])"
      ]
     },
     "execution_count": 439,
     "metadata": {},
     "output_type": "execute_result"
    }
   ],
   "source": [
    "(A.inverse() @ ((-1)*C) @ B.inverse()).round()"
   ]
  },
  {
   "cell_type": "markdown",
   "metadata": {
    "id": "1P7O19bj1RDP"
   },
   "source": [
    "1.4.8 Проверить, является ли система векторов a1 = (3; −3; 0; 7),\n",
    "a2 = (2; 2; 4; 7), a3 = (1; 2; 3; 4), a4 = (5; −4; 1; 3) линейно зависимой?"
   ]
  },
  {
   "cell_type": "code",
   "execution_count": 442,
   "metadata": {},
   "outputs": [
    {
     "data": {
      "text/plain": [
       "tensor(0.)"
      ]
     },
     "execution_count": 442,
     "metadata": {},
     "output_type": "execute_result"
    }
   ],
   "source": [
    "torch.tensor([\n",
    "    [3,-3,0,7],\n",
    "    [2,2,4,7],\n",
    "    [1,2,3,4],\n",
    "    [5,-4,1,3]\n",
    "]).to(torch.float).det().round()"
   ]
  },
  {
   "cell_type": "code",
   "execution_count": null,
   "metadata": {},
   "outputs": [],
   "source": [
    "#линейно зависимы"
   ]
  },
  {
   "cell_type": "markdown",
   "metadata": {
    "id": "Jg_bzMVS1RDQ"
   },
   "source": [
    "1.4.9 Сгенирировать тензор из 200 случайных целых чисел, нормально распрделенных cо стандартным отклонением $\\sigma = 10$ и матожиданием $\\mu = 0$. Построить тензор гистограммы с 20 бинами. "
   ]
  },
  {
   "cell_type": "code",
   "execution_count": 481,
   "metadata": {
    "id": "Vgf5PdXY903r",
    "scrolled": true
   },
   "outputs": [
    {
     "data": {
      "text/plain": [
       "tensor([  0.2535, -14.1012,   9.7281,  10.0815,  17.5917,  22.5962,  11.4083,\n",
       "        -14.1003,  -9.7739,  -6.4262,   3.1405,   0.2520,   3.8452,   8.9965,\n",
       "        -10.8906,   3.1812,   1.0379,  -9.2349,  10.8367,   5.4086,  -0.6683,\n",
       "         -7.4773,  11.4979,  -8.6641,   5.6773,  10.1238,  -4.7169,   3.9211,\n",
       "          1.9778,  11.6353,  -3.0839,  -1.6792,   6.9005,   8.3189,  10.1591,\n",
       "          5.5679,   1.6752,  -9.9427, -22.9217, -10.7103, -17.8882,   7.1064,\n",
       "         -2.5203,  16.6027,  -8.4094, -14.8461,  -5.3639, -11.3347,   0.5670,\n",
       "        -25.4328,  11.2299,   8.7331,   9.9661,  -8.2726,   2.8943, -11.5855,\n",
       "          1.2550, -10.5956,   0.1635,  22.5747,   6.6531,  -1.3466,  18.0805,\n",
       "          0.7952,  -2.3472,   3.6010,  10.3072,  -4.8060,   3.4347,  -8.8315,\n",
       "         -8.2494,  -4.0604,  -4.4734,   1.1745,  -3.2449,  11.8576, -19.5226,\n",
       "         -1.3468,  25.9802,   3.7748,  -6.2845, -17.5011,   8.8726, -26.5612,\n",
       "         -9.7530,   7.4974,  -4.9692, -11.1055,  -5.9708,   4.6290,  17.9454,\n",
       "         -6.2676,   0.9130,   5.4516,   5.7080,   1.4357,  -1.6302,   3.0003,\n",
       "         -8.6145, -10.9867,  10.3241,   8.7624, -13.4153,  -3.6235,   0.4907,\n",
       "        -12.6323,  11.3413,   0.0485,   2.4812,   8.1671,   4.1837,   6.8709,\n",
       "         29.1997,   9.5728,  -4.1540,   0.1044,   3.8794, -18.6244,  10.7542,\n",
       "          9.2868,   1.7815,  -2.8655,   0.1469,  22.8405,   4.8850, -11.9774,\n",
       "          1.9066,  -9.8033,  -4.6437, -20.9418, -23.9638,   1.6020,  -0.3013,\n",
       "         17.3225, -11.0698,  -0.3104,  16.6102, -10.1580,   2.5657,  -6.5895,\n",
       "          9.5190,  -5.3106,  14.8448, -30.1555,   0.5314,   0.2703, -11.7114,\n",
       "          4.0607,  13.8310,  10.7778,  -8.6110,  -5.5456,  20.4760,  -0.2252,\n",
       "          6.5352,   4.2077,  -8.8695, -20.2621,   3.0466,  -2.0976,  -3.1873,\n",
       "        -26.7303,   4.4168, -10.9784,  11.5303,  12.7141,   5.2058,  -8.7482,\n",
       "        -12.4367, -10.1744, -17.1061,   7.6054,   3.1926,   7.3967,  -0.9456,\n",
       "         14.7767,   5.2928,   3.3288,  -5.1661, -12.0329,  13.0872,   9.1049,\n",
       "         17.5470,  -1.8638,  -2.0551,   3.2112,  -3.8858,  -8.9504,   0.2133,\n",
       "         10.5078,  11.7348,  11.4429,   8.5953,  19.6569,  -2.1686,  15.6393,\n",
       "        -12.1219,   5.9855,  19.5611,  -4.8606])"
      ]
     },
     "execution_count": 481,
     "metadata": {},
     "output_type": "execute_result"
    }
   ],
   "source": [
    "norm = torch.normal(mean=torch.zeros(200), std=10)\n",
    "norm"
   ]
  },
  {
   "cell_type": "code",
   "execution_count": 482,
   "metadata": {},
   "outputs": [
    {
     "data": {
      "text/plain": [
       "tensor([ 1.,  3.,  2.,  4.,  3.,  6., 19., 14., 17., 16., 26., 25., 14., 22.,\n",
       "        10.,  6.,  6.,  4.,  1.,  1.])"
      ]
     },
     "execution_count": 482,
     "metadata": {},
     "output_type": "execute_result"
    }
   ],
   "source": [
    "bins20 = norm.histc(bins=20)\n",
    "bins20"
   ]
  },
  {
   "cell_type": "code",
   "execution_count": 483,
   "metadata": {},
   "outputs": [],
   "source": [
    "import matplotlib.pyplot as plt"
   ]
  },
  {
   "cell_type": "code",
   "execution_count": 484,
   "metadata": {},
   "outputs": [
    {
     "data": {
      "image/png": "[encoded data removed]",
      "text/plain": [
       "<Figure size 1152x864 with 1 Axes>"
      ]
     },
     "metadata": {
      "needs_background": "light"
     },
     "output_type": "display_data"
    }
   ],
   "source": [
    "plt.figure(figsize=(16,12))\n",
    "plt.bar(\n",
    "    torch.arange(20),\n",
    "    bins20,\n",
    "    color = 'blue',\n",
    "    edgecolor = 'black'\n",
    ");"
   ]
  },
  {
   "cell_type": "code",
   "execution_count": null,
   "metadata": {},
   "outputs": [],
   "source": []
  }
 ],
 "metadata": {
  "colab": {
   "provenance": []
  },
  "kernelspec": {
   "display_name": "Python 3 (ipykernel)",
   "language": "python",
   "name": "python3"
  },
  "language_info": {
   "codemirror_mode": {
    "name": "ipython",
    "version": 3
   },
   "file_extension": ".py",
   "mimetype": "text/x-python",
   "name": "python",
   "nbconvert_exporter": "python",
   "pygments_lexer": "ipython3",
   "version": "3.9.12"
  }
 },
 "nbformat": 4,
 "nbformat_minor": 1
}
